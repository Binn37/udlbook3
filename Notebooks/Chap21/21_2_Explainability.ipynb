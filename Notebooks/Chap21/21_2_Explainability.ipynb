{
 "nbformat": 4,
 "nbformat_minor": 0,
 "metadata": {
  "colab": {
   "provenance": [],
   "authorship_tag": "ABX9TyOLMPuSWpvv8BfyPV36RuJP",
   "include_colab_link": true
  },
  "kernelspec": {
   "name": "python3",
   "display_name": "Python 3"
  },
  "language_info": {
   "name": "python"
  }
 },
 "cells": [
  {
   "cell_type": "markdown",
   "metadata": {
    "id": "view-in-github",
    "colab_type": "text"
   },
   "source": [
    "<a href=\"https://colab.research.google.com/github/udlbook/udlbook/blob/main/Notebooks/Chap21/21_2_Explainability.ipynb\" target=\"_parent\"><img src=\"https://colab.research.google.com/assets/colab-badge.svg\" alt=\"Open In Colab\"/></a>"
   ]
  },
  {
   "cell_type": "markdown",
   "source": [
    "# **Notebook 21.2: Explainability**\n",
    "\n",
    "This notebook investigates the LIME explainability method as depicted in figure 21.3 of the book.\n",
    "\n",
    "Work through the cells below, running each cell in turn. In various places you will see the words \"TO DO\". Follow the instructions at these places and make predictions about what is going to happen or write code to complete the functions.\n",
    "\n",
    "Contact me at udlbookmail@gmail.com if you find any mistakes or have any suggestions.\n"
   ],
   "metadata": {
    "id": "t9vk9Elugvmi"
   }
  },
  {
   "cell_type": "code",
   "source": [
    "import numpy as np\n",
    "import matplotlib.pyplot as plt\n",
    "import numpy.matlib\n",
    "from matplotlib.colors import ListedColormap"
   ],
   "metadata": {
    "id": "yC_LpiJqZXEL"
   },
   "execution_count": null,
   "outputs": []
  },
  {
   "cell_type": "markdown",
   "source": [
    "First we'll build a black box model for predicting a credit score.  This simulates a neural network.  It takes four inputs $x1,x2,x3,x4$ in a column vector and it returns a value $y$.  Let's assume that if the output $y$ is greater than 0 then you get the loan, and if the output is less than 0 then you don't get the zone."
   ],
   "metadata": {
    "id": "WM6mq9KNit3j"
   }
  },
  {
   "cell_type": "code",
   "source": [
    "# Details of this not important -- a hacky thing that takes four inputs and returns\n",
    "# a scalar output\n",
    "class BlackBoxModel:\n",
    "    def __init__(self):\n",
    "        self.n_dim = 4\n",
    "        self.n_points = 10\n",
    "        self.means = np.random.uniform(size=(self.n_dim, self.n_points))\n",
    "        self.stds = np.random.uniform(size=(self.n_dim, self.n_points)) + 0.1\n",
    "        self.values = np.random.normal(size=(self.n_points)) / 10\n",
    "        self.values = self.values - np.mean(self.values)\n",
    "\n",
    "    def intensity(self, x, mean, std, value):\n",
    "\n",
    "        dist = (x - np.matlib.repmat(mean, 1, x.shape[1])) / np.matlib.repmat(\n",
    "            std, 1, x.shape[1]\n",
    "        )\n",
    "        out = value * np.exp(-np.sum(dist * dist, axis=0))\n",
    "        out = out[None, :]\n",
    "        return out\n",
    "\n",
    "    def get_output(self, x):\n",
    "        y = np.zeros((1, x.shape[1]))\n",
    "        t_vals = np.arange(0, self.n_points - 1, 0.01)\n",
    "        for t in t_vals:\n",
    "            i = np.floor(t)\n",
    "            prop = t - i\n",
    "            i = int(i)\n",
    "            y = y + prop * self.intensity(\n",
    "                x, self.means[:, [i]], self.stds[:, [i]], self.values[i]\n",
    "            )\n",
    "            y = y + (1 - prop) * self.intensity(\n",
    "                x, self.means[:, [i + 1]], self.stds[:, [i + 1]], self.values[i + 1]\n",
    "            )\n",
    "            y = np.clip(y, -10, 10)\n",
    "        return y"
   ],
   "metadata": {
    "id": "rt4FS42dIa9_"
   },
   "execution_count": null,
   "outputs": []
  },
  {
   "cell_type": "code",
   "source": [
    "# Code to draw 2D slide through the four dimensional function\n",
    "# Again, you don't really need to read this.\n",
    "def draw_2D_slice(\n",
    "    model, dim1, dim2, first_other_dim_value=0.5, second_other_dim_value=0.6\n",
    "):\n",
    "\n",
    "    # Create pretty colormap as in book\n",
    "    my_colormap_vals_hex = (\n",
    "        \"2a0902\",\n",
    "        \"2b0a03\",\n",
    "        \"2c0b04\",\n",
    "        \"2d0c05\",\n",
    "        \"2e0c06\",\n",
    "        \"2f0d07\",\n",
    "        \"300d08\",\n",
    "        \"310e09\",\n",
    "        \"320f0a\",\n",
    "        \"330f0b\",\n",
    "        \"34100b\",\n",
    "        \"35110c\",\n",
    "        \"36110d\",\n",
    "        \"37120e\",\n",
    "        \"38120f\",\n",
    "        \"39130f\",\n",
    "        \"3a1410\",\n",
    "        \"3b1411\",\n",
    "        \"3c1511\",\n",
    "        \"3d1612\",\n",
    "        \"3e1613\",\n",
    "        \"3f1713\",\n",
    "        \"401714\",\n",
    "        \"411814\",\n",
    "        \"421915\",\n",
    "        \"431915\",\n",
    "        \"451a16\",\n",
    "        \"461b16\",\n",
    "        \"471b17\",\n",
    "        \"481c17\",\n",
    "        \"491d18\",\n",
    "        \"4a1d18\",\n",
    "        \"4b1e19\",\n",
    "        \"4c1f19\",\n",
    "        \"4d1f1a\",\n",
    "        \"4e201b\",\n",
    "        \"50211b\",\n",
    "        \"51211c\",\n",
    "        \"52221c\",\n",
    "        \"53231d\",\n",
    "        \"54231d\",\n",
    "        \"55241e\",\n",
    "        \"56251e\",\n",
    "        \"57261f\",\n",
    "        \"58261f\",\n",
    "        \"592720\",\n",
    "        \"5b2821\",\n",
    "        \"5c2821\",\n",
    "        \"5d2922\",\n",
    "        \"5e2a22\",\n",
    "        \"5f2b23\",\n",
    "        \"602b23\",\n",
    "        \"612c24\",\n",
    "        \"622d25\",\n",
    "        \"632e25\",\n",
    "        \"652e26\",\n",
    "        \"662f26\",\n",
    "        \"673027\",\n",
    "        \"683027\",\n",
    "        \"693128\",\n",
    "        \"6a3229\",\n",
    "        \"6b3329\",\n",
    "        \"6c342a\",\n",
    "        \"6d342a\",\n",
    "        \"6f352b\",\n",
    "        \"70362c\",\n",
    "        \"71372c\",\n",
    "        \"72372d\",\n",
    "        \"73382e\",\n",
    "        \"74392e\",\n",
    "        \"753a2f\",\n",
    "        \"763a2f\",\n",
    "        \"773b30\",\n",
    "        \"783c31\",\n",
    "        \"7a3d31\",\n",
    "        \"7b3e32\",\n",
    "        \"7c3e33\",\n",
    "        \"7d3f33\",\n",
    "        \"7e4034\",\n",
    "        \"7f4134\",\n",
    "        \"804235\",\n",
    "        \"814236\",\n",
    "        \"824336\",\n",
    "        \"834437\",\n",
    "        \"854538\",\n",
    "        \"864638\",\n",
    "        \"874739\",\n",
    "        \"88473a\",\n",
    "        \"89483a\",\n",
    "        \"8a493b\",\n",
    "        \"8b4a3c\",\n",
    "        \"8c4b3c\",\n",
    "        \"8d4c3d\",\n",
    "        \"8e4c3e\",\n",
    "        \"8f4d3f\",\n",
    "        \"904e3f\",\n",
    "        \"924f40\",\n",
    "        \"935041\",\n",
    "        \"945141\",\n",
    "        \"955242\",\n",
    "        \"965343\",\n",
    "        \"975343\",\n",
    "        \"985444\",\n",
    "        \"995545\",\n",
    "        \"9a5646\",\n",
    "        \"9b5746\",\n",
    "        \"9c5847\",\n",
    "        \"9d5948\",\n",
    "        \"9e5a49\",\n",
    "        \"9f5a49\",\n",
    "        \"a05b4a\",\n",
    "        \"a15c4b\",\n",
    "        \"a35d4b\",\n",
    "        \"a45e4c\",\n",
    "        \"a55f4d\",\n",
    "        \"a6604e\",\n",
    "        \"a7614e\",\n",
    "        \"a8624f\",\n",
    "        \"a96350\",\n",
    "        \"aa6451\",\n",
    "        \"ab6552\",\n",
    "        \"ac6552\",\n",
    "        \"ad6653\",\n",
    "        \"ae6754\",\n",
    "        \"af6855\",\n",
    "        \"b06955\",\n",
    "        \"b16a56\",\n",
    "        \"b26b57\",\n",
    "        \"b36c58\",\n",
    "        \"b46d59\",\n",
    "        \"b56e59\",\n",
    "        \"b66f5a\",\n",
    "        \"b7705b\",\n",
    "        \"b8715c\",\n",
    "        \"b9725d\",\n",
    "        \"ba735d\",\n",
    "        \"bb745e\",\n",
    "        \"bc755f\",\n",
    "        \"bd7660\",\n",
    "        \"be7761\",\n",
    "        \"bf7862\",\n",
    "        \"c07962\",\n",
    "        \"c17a63\",\n",
    "        \"c27b64\",\n",
    "        \"c27c65\",\n",
    "        \"c37d66\",\n",
    "        \"c47e67\",\n",
    "        \"c57f68\",\n",
    "        \"c68068\",\n",
    "        \"c78169\",\n",
    "        \"c8826a\",\n",
    "        \"c9836b\",\n",
    "        \"ca846c\",\n",
    "        \"cb856d\",\n",
    "        \"cc866e\",\n",
    "        \"cd876f\",\n",
    "        \"ce886f\",\n",
    "        \"ce8970\",\n",
    "        \"cf8a71\",\n",
    "        \"d08b72\",\n",
    "        \"d18c73\",\n",
    "        \"d28d74\",\n",
    "        \"d38e75\",\n",
    "        \"d48f76\",\n",
    "        \"d59077\",\n",
    "        \"d59178\",\n",
    "        \"d69279\",\n",
    "        \"d7937a\",\n",
    "        \"d8957b\",\n",
    "        \"d9967b\",\n",
    "        \"da977c\",\n",
    "        \"da987d\",\n",
    "        \"db997e\",\n",
    "        \"dc9a7f\",\n",
    "        \"dd9b80\",\n",
    "        \"de9c81\",\n",
    "        \"de9d82\",\n",
    "        \"df9e83\",\n",
    "        \"e09f84\",\n",
    "        \"e1a185\",\n",
    "        \"e2a286\",\n",
    "        \"e2a387\",\n",
    "        \"e3a488\",\n",
    "        \"e4a589\",\n",
    "        \"e5a68a\",\n",
    "        \"e5a78b\",\n",
    "        \"e6a88c\",\n",
    "        \"e7aa8d\",\n",
    "        \"e7ab8e\",\n",
    "        \"e8ac8f\",\n",
    "        \"e9ad90\",\n",
    "        \"eaae91\",\n",
    "        \"eaaf92\",\n",
    "        \"ebb093\",\n",
    "        \"ecb295\",\n",
    "        \"ecb396\",\n",
    "        \"edb497\",\n",
    "        \"eeb598\",\n",
    "        \"eeb699\",\n",
    "        \"efb79a\",\n",
    "        \"efb99b\",\n",
    "        \"f0ba9c\",\n",
    "        \"f1bb9d\",\n",
    "        \"f1bc9e\",\n",
    "        \"f2bd9f\",\n",
    "        \"f2bfa1\",\n",
    "        \"f3c0a2\",\n",
    "        \"f3c1a3\",\n",
    "        \"f4c2a4\",\n",
    "        \"f5c3a5\",\n",
    "        \"f5c5a6\",\n",
    "        \"f6c6a7\",\n",
    "        \"f6c7a8\",\n",
    "        \"f7c8aa\",\n",
    "        \"f7c9ab\",\n",
    "        \"f8cbac\",\n",
    "        \"f8ccad\",\n",
    "        \"f8cdae\",\n",
    "        \"f9ceb0\",\n",
    "        \"f9d0b1\",\n",
    "        \"fad1b2\",\n",
    "        \"fad2b3\",\n",
    "        \"fbd3b4\",\n",
    "        \"fbd5b6\",\n",
    "        \"fbd6b7\",\n",
    "        \"fcd7b8\",\n",
    "        \"fcd8b9\",\n",
    "        \"fcdaba\",\n",
    "        \"fddbbc\",\n",
    "        \"fddcbd\",\n",
    "        \"fddebe\",\n",
    "        \"fddfbf\",\n",
    "        \"fee0c1\",\n",
    "        \"fee1c2\",\n",
    "        \"fee3c3\",\n",
    "        \"fee4c5\",\n",
    "        \"ffe5c6\",\n",
    "        \"ffe7c7\",\n",
    "        \"ffe8c9\",\n",
    "        \"ffe9ca\",\n",
    "        \"ffebcb\",\n",
    "        \"ffeccd\",\n",
    "        \"ffedce\",\n",
    "        \"ffefcf\",\n",
    "        \"fff0d1\",\n",
    "        \"fff2d2\",\n",
    "        \"fff3d3\",\n",
    "        \"fff4d5\",\n",
    "        \"fff6d6\",\n",
    "        \"fff7d8\",\n",
    "        \"fff8d9\",\n",
    "        \"fffada\",\n",
    "        \"fffbdc\",\n",
    "        \"fffcdd\",\n",
    "        \"fffedf\",\n",
    "        \"ffffe0\",\n",
    "    )\n",
    "    my_colormap_vals_dec = np.array(\n",
    "        [int(element, base=16) for element in my_colormap_vals_hex]\n",
    "    )\n",
    "    r = np.floor(my_colormap_vals_dec / (256 * 256))\n",
    "    g = np.floor((my_colormap_vals_dec - r * 256 * 256) / 256)\n",
    "    b = np.floor(my_colormap_vals_dec - r * 256 * 256 - g * 256)\n",
    "    my_colormap_vals = np.vstack((r, g, b)).transpose() / 255.0\n",
    "    my_colormap = ListedColormap(my_colormap_vals)\n",
    "\n",
    "    x1_vals = np.arange(0.0, 1.0, 0.01)\n",
    "    x2_vals = np.arange(0.0, 1.0, 0.01)\n",
    "    x1_mesh, x2_mesh = np.meshgrid(x1_vals, x2_vals)\n",
    "    n_vals = x1_mesh.shape[0]\n",
    "\n",
    "    x1 = np.reshape(x1_mesh, (1, n_vals * n_vals))\n",
    "    x2 = np.reshape(x2_mesh, (1, n_vals * n_vals))\n",
    "\n",
    "    x = np.ones((4, n_vals * n_vals))\n",
    "    x[dim1, :] = x1\n",
    "    x[dim2, :] = x2\n",
    "    if (dim1 == 0 and dim2 == 1) or (dim1 == 1 and dim2 == 0):\n",
    "        x[2, :] = x[2, :] * first_other_dim_value\n",
    "        x[3, :] = x[3, :] * second_other_dim_value\n",
    "        message = \"$x_{2}$ = %3.3f, $x_3$=%3.3f\" % (\n",
    "            first_other_dim_value,\n",
    "            second_other_dim_value,\n",
    "        )\n",
    "    if (dim1 == 0 and dim2 == 2) or (dim1 == 2 and dim2 == 0):\n",
    "        x[1, :] = x[1, :] * first_other_dim_value\n",
    "        x[3, :] = x[3, :] * second_other_dim_value\n",
    "        message = \"$x_{1}$ = %3.3f, $x_3$=%3.3f\" % (\n",
    "            first_other_dim_value,\n",
    "            second_other_dim_value,\n",
    "        )\n",
    "    if (dim1 == 0 and dim2 == 3) or (dim1 == 3 and dim2 == 0):\n",
    "        x[1, :] = x[1, :] * first_other_dim_value\n",
    "        x[2, :] = x[2, :] * second_other_dim_value\n",
    "        message = \"$x_{1}$ = %3.3f, $x_2$=%3.3f\" % (\n",
    "            first_other_dim_value,\n",
    "            second_other_dim_value,\n",
    "        )\n",
    "    if (dim1 == 1 and dim2 == 2) or (dim1 == 2 and dim2 == 1):\n",
    "        x[0, :] = x[0, :] * first_other_dim_value\n",
    "        x[3, :] = x[3, :] * second_other_dim_value\n",
    "        message = \"$x_{0}$ = %3.3f, $x_3$=%3.3f\" % (\n",
    "            first_other_dim_value,\n",
    "            second_other_dim_value,\n",
    "        )\n",
    "    if (dim1 == 1 and dim2 == 3) or (dim1 == 3 and dim2 == 1):\n",
    "        x[0, :] = x[0, :] * first_other_dim_value\n",
    "        x[2, :] = x[2, :] * second_other_dim_value\n",
    "        message = \"$x_{0}$ = %3.3f, $x_2$=%3.3f\" % (\n",
    "            first_other_dim_value,\n",
    "            second_other_dim_value,\n",
    "        )\n",
    "    if (dim1 == 2 and dim2 == 3) or (dim1 == 3 and dim2 == 2):\n",
    "        x[0, :] = x[0, :] * first_other_dim_value\n",
    "        x[1, :] = x[1, :] * second_other_dim_value\n",
    "        message = \"$x_{0}$ = %3.3f, $x_1$=%3.3f\" % (\n",
    "            first_other_dim_value,\n",
    "            second_other_dim_value,\n",
    "        )\n",
    "\n",
    "    y = model.get_output(x)\n",
    "    y[0, 0] = -10\n",
    "    y[0, 1] = 10  # Hack the first two values so we see whole range of colormap\n",
    "    y_mesh = np.reshape(y, (n_vals, n_vals))\n",
    "\n",
    "    fig, ax = plt.subplots()\n",
    "    fig.set_size_inches(7, 7)\n",
    "    pos = ax.contourf(\n",
    "        x1_mesh, x2_mesh, y_mesh, levels=256, cmap=my_colormap, vmin=-10, vmax=10.0\n",
    "    )\n",
    "    ax.set_xlabel(\"Dimension x%d\" % dim1)\n",
    "    ax.set_ylabel(\"Dimension x%d\" % dim2)\n",
    "    ax.set_title(message)\n",
    "    levels = np.array([0])\n",
    "    ax.contour(x1_mesh, x2_mesh, y_mesh, levels, cmap=my_colormap)\n",
    "    cb = fig.colorbar(pos)\n",
    "    cb.set_ticks((-10, -5, 0, 5, 10))\n",
    "    plt.show()"
   ],
   "metadata": {
    "id": "g0sosSU4RdU3"
   },
   "execution_count": null,
   "outputs": []
  },
  {
   "cell_type": "markdown",
   "source": [
    "Create an instance of our model"
   ],
   "metadata": {
    "id": "RlHjBpcyjcw4"
   }
  },
  {
   "cell_type": "code",
   "source": [
    "np.random.seed(3)\n",
    "model = BlackBoxModel()"
   ],
   "metadata": {
    "id": "-JXgQD4oT3J1"
   },
   "execution_count": null,
   "outputs": []
  },
  {
   "cell_type": "markdown",
   "source": [
    "The four inputs to the model might represent the four inputs measures of our debt, age, income etc, and the output represents the credit score.\n",
    "\n",
    "As a responsible model owner, we want to understand our model and make sure that it is doing something sensible.  \n",
    "\n",
    "Unfortunately, the model describes a four dimensional function, which makes it really hard to understand (and imagine, that there could easily be hundreds of input in a real model).\n",
    "\n",
    "One thing that we can do it look at the effect of two of the inputs at one time.  For example, we can look at how inputs 0 and 1 change when we fix dimension 2 to 0.2 and dimension 3 to 0.9.   The black line represents the decision boundary (where the model predicts a credit score of zero).  If we are on the wrong side of this boundary, then our loan is refused."
   ],
   "metadata": {
    "id": "6LxuB6p3k-VM"
   }
  },
  {
   "cell_type": "code",
   "source": [
    "draw_2D_slice(model, 0, 1, 0.2, 0.9)"
   ],
   "metadata": {
    "id": "NblKr3W0dBJJ"
   },
   "execution_count": null,
   "outputs": []
  },
  {
   "cell_type": "markdown",
   "source": [
    "Similarly, we could look at how inputs 1 and 3 change the input when we set input 0 to 0.3 and input 2 to 0.2:"
   ],
   "metadata": {
    "id": "Fp2GeFn5mIRW"
   }
  },
  {
   "cell_type": "code",
   "source": [
    "draw_2D_slice(model, 1, 3, 0.3, 0.2)"
   ],
   "metadata": {
    "id": "VzIe0py5d5Bk"
   },
   "execution_count": null,
   "outputs": []
  },
  {
   "cell_type": "markdown",
   "source": [
    "This tells us something -- it might be good for a reality check if we had some expectations about what effect each input would have, but it's still hard to ensure that the model does something sensible everywhere, especially for models where there are thousands of inputs.  Unfortunately, there are basically no good solutions to this problem at the time of writing."
   ],
   "metadata": {
    "id": "A9XUV9B6m7v0"
   }
  },
  {
   "cell_type": "markdown",
   "source": [
    "However, let's view this from the perspective of a customer.  We can assume that the four inputs have some particular values, and see what the output is."
   ],
   "metadata": {
    "id": "1w968kJQjjUm"
   }
  },
  {
   "cell_type": "code",
   "source": [
    "x = np.array([[0.3], [0.8], [0.6], [0.3]])\n",
    "y = model.get_output(x)\n",
    "print(\"Your credit score is %3.3f\" % (y))\n",
    "print(\"Sorry,  your loan is refused\")"
   ],
   "metadata": {
    "id": "Nr71IahkjfV3"
   },
   "execution_count": null,
   "outputs": []
  },
  {
   "cell_type": "markdown",
   "source": [
    "Well, that is bad news.  Why was our loan refused?  We'd like to understand what we could do to improve our credit score.   One way to do this is through individual conditional expectation or ICE plots ([Goldstein et al. 2015](https://arxiv.org/abs/1309.6392)). These take shows how the model output would change as we vary a single feature. Essentially, they answer the question: what if the $k^{th}$ feature had taken another value?"
   ],
   "metadata": {
    "id": "mafmi3dSkTuf"
   }
  },
  {
   "cell_type": "code",
   "source": [
    "def ice_plot(model, x, k):\n",
    "    # Get output for the input\n",
    "    y = model.get_output(x)\n",
    "\n",
    "    # Possible values of the k'th dimension of the input\n",
    "    x_k_all = np.arange(0, 1, 0.001)\n",
    "    # TODO write code that varies the k'th dimension of x and runs the model on the result to create a series of outputs y\n",
    "    # Replace this line\n",
    "    y_all = np.zeros_like(x_k_all)\n",
    "\n",
    "    fig, ax = plt.subplots()\n",
    "    ax.plot(x_k_all, np.squeeze(y_all), \"r-\")\n",
    "    ax.plot(x[k], y, \"ro\")\n",
    "    ax.plot([0, 1.0], [0.0, 0.0], \"k--\")\n",
    "    ax.set_xlabel(\"Dimension x%d\" % (k))\n",
    "    ax.set_ylabel(\"Credit score\")\n",
    "    ax.set_xlim(0, 1)\n",
    "    ax.set_ylim([-10, 10])\n",
    "\n",
    "    plt.show()"
   ],
   "metadata": {
    "id": "v2nNsvW-m2fb"
   },
   "execution_count": null,
   "outputs": []
  },
  {
   "cell_type": "code",
   "source": [
    "ice_plot(model, x, 0)\n",
    "ice_plot(model, x, 1)\n",
    "ice_plot(model, x, 2)\n",
    "ice_plot(model, x, 3)"
   ],
   "metadata": {
    "id": "5I91gzfSnL9N"
   },
   "execution_count": null,
   "outputs": []
  },
  {
   "cell_type": "markdown",
   "source": [
    "We can learn something from this.  For example, decreasing the value of $x_{3}$ would be the most effective way to increase our credit score.  However, this might be impossible if it is a variable we can't control like our age.  Perhaps decreasing $x_0$ and $x_{1}$ might improve it further.  Well... perhaps, but we don't know what is going on in our model;  it might also make things much worse.\n",
    "\n",
    "Local interpretable model-agnostic explanations or LIME ([Ribeiro et al. 2016](https://arxiv.org/abs/1602.04938)) approximate the main machine learning model locally around a given input using a simpler model that is easier to understand.  \n",
    "\n",
    "The principle is simple.  First, we sample some points $\\mathbf{x}_{i}$ close to  the input $\\mathbf{x}$ that we are interested in.  Then we find the outputs $\\mathbf{y}_i$ that correspond to those inputs.  Now we have a training set, and we can train any other kind of model that explains this small area of the input space. This can be a model that is much more interpretable and easier to understand such as a linear model or a tree."
   ],
   "metadata": {
    "id": "RmjuAR7HojtR"
   }
  },
  {
   "cell_type": "code",
   "source": [
    "# TODO -- Choose 100 points where each element of x is perturbed by noise sampled from a uniform distribution\n",
    "# that takes values between [-0.05 and 0.05].  Then run these points through the model.\n",
    "# Replace these lines\n",
    "x_lime_train = np.matlib.repmat(x, 1, 100)\n",
    "y_lime_train = np.ones((1, 100))\n",
    "\n",
    "# BEGIN_ANSWER\n",
    "x_lime_train = x_lime_train + np.random.uniform(\n",
    "    low=-0.05, high=0.05, size=x_lime_train.shape\n",
    ")\n",
    "y_lime_train = model.get_output(x_lime_train)\n",
    "# END_ANSWER"
   ],
   "metadata": {
    "id": "-GprSftsnS0M"
   },
   "execution_count": null,
   "outputs": []
  },
  {
   "cell_type": "markdown",
   "source": [
    "We'll train a linear model:\n",
    "\n",
    "\\begin{equation}\n",
    "y = \\beta_0 + \\boldsymbol\\phi^{T}\\mathbf{x}\n",
    "\\end{equation}"
   ],
   "metadata": {
    "id": "yTFDYbqGqmcA"
   }
  },
  {
   "cell_type": "code",
   "source": [
    "# TODO -- train this model using a least squares loss\n",
    "# to find values for the offset \\beta_0 and the four slopes in \\phi\n",
    "# One way to do this is with sklearn.linear_model\n",
    "# Replace this line\n",
    "beta = 0\n",
    "phi = np.zeros((1, 4))\n",
    "\n",
    "print(phi)"
   ],
   "metadata": {
    "id": "5e4VPh40qlEl"
   },
   "execution_count": null,
   "outputs": []
  },
  {
   "cell_type": "markdown",
   "source": [
    "This model is easily interpretable.  The k'th coefficient tells us the how much (and in which direction) changing the value of the k'th input will change the output.  This is only valid in the vicinity of the input $x$.\n",
    "\n",
    "Note that a more sophisticated version of LIME would weight the training points according to how close they are to the original data point of interest."
   ],
   "metadata": {
    "id": "hsZHWuVWtzIK"
   }
  }
 ]
}
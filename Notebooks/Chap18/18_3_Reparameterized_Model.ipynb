{
 "cells": [
  {
   "attachments": {},
   "cell_type": "markdown",
   "metadata": {
    "colab_type": "text",
    "id": "view-in-github"
   },
   "source": [
    "<a href=\"https://colab.research.google.com/github/udlbook/udlbook/blob/main/Notebooks/Chap18/18_3_Reparameterized_Model.ipynb\" target=\"_parent\"><img src=\"https://colab.research.google.com/assets/colab-badge.svg\" alt=\"Open In Colab\"/></a>"
   ]
  },
  {
   "attachments": {},
   "cell_type": "markdown",
   "metadata": {
    "id": "t9vk9Elugvmi"
   },
   "source": [
    "# **Notebook 18.3: 1D Reparameterized model**\n",
    "\n",
    "This notebook investigates the reparameterized model as described in section 18.5 of the book and implements algorithms 18.1 and 18.2.\n",
    "\n",
    "Work through the cells below, running each cell in turn. In various places you will see the words \"TO DO\". Follow the instructions at these places and make predictions about what is going to happen or write code to complete the functions.\n",
    "\n",
    "Contact me at udlbookmail@gmail.com if you find any mistakes or have any suggestions."
   ]
  },
  {
   "cell_type": "code",
   "execution_count": null,
   "metadata": {
    "id": "OLComQyvCIJ7"
   },
   "outputs": [],
   "source": [
    "import numpy as np\n",
    "import matplotlib.pyplot as plt\n",
    "from matplotlib.colors import ListedColormap\n",
    "from operator import itemgetter\n",
    "from scipy import stats\n",
    "from IPython.display import display, clear_output"
   ]
  },
  {
   "cell_type": "code",
   "execution_count": null,
   "metadata": {
    "id": "4PM8bf6lO0VE"
   },
   "outputs": [],
   "source": [
    "# Create pretty colormap as in book\n",
    "my_colormap_vals_hex = (\n",
    "    \"2a0902\",\n",
    "    \"2b0a03\",\n",
    "    \"2c0b04\",\n",
    "    \"2d0c05\",\n",
    "    \"2e0c06\",\n",
    "    \"2f0d07\",\n",
    "    \"300d08\",\n",
    "    \"310e09\",\n",
    "    \"320f0a\",\n",
    "    \"330f0b\",\n",
    "    \"34100b\",\n",
    "    \"35110c\",\n",
    "    \"36110d\",\n",
    "    \"37120e\",\n",
    "    \"38120f\",\n",
    "    \"39130f\",\n",
    "    \"3a1410\",\n",
    "    \"3b1411\",\n",
    "    \"3c1511\",\n",
    "    \"3d1612\",\n",
    "    \"3e1613\",\n",
    "    \"3f1713\",\n",
    "    \"401714\",\n",
    "    \"411814\",\n",
    "    \"421915\",\n",
    "    \"431915\",\n",
    "    \"451a16\",\n",
    "    \"461b16\",\n",
    "    \"471b17\",\n",
    "    \"481c17\",\n",
    "    \"491d18\",\n",
    "    \"4a1d18\",\n",
    "    \"4b1e19\",\n",
    "    \"4c1f19\",\n",
    "    \"4d1f1a\",\n",
    "    \"4e201b\",\n",
    "    \"50211b\",\n",
    "    \"51211c\",\n",
    "    \"52221c\",\n",
    "    \"53231d\",\n",
    "    \"54231d\",\n",
    "    \"55241e\",\n",
    "    \"56251e\",\n",
    "    \"57261f\",\n",
    "    \"58261f\",\n",
    "    \"592720\",\n",
    "    \"5b2821\",\n",
    "    \"5c2821\",\n",
    "    \"5d2922\",\n",
    "    \"5e2a22\",\n",
    "    \"5f2b23\",\n",
    "    \"602b23\",\n",
    "    \"612c24\",\n",
    "    \"622d25\",\n",
    "    \"632e25\",\n",
    "    \"652e26\",\n",
    "    \"662f26\",\n",
    "    \"673027\",\n",
    "    \"683027\",\n",
    "    \"693128\",\n",
    "    \"6a3229\",\n",
    "    \"6b3329\",\n",
    "    \"6c342a\",\n",
    "    \"6d342a\",\n",
    "    \"6f352b\",\n",
    "    \"70362c\",\n",
    "    \"71372c\",\n",
    "    \"72372d\",\n",
    "    \"73382e\",\n",
    "    \"74392e\",\n",
    "    \"753a2f\",\n",
    "    \"763a2f\",\n",
    "    \"773b30\",\n",
    "    \"783c31\",\n",
    "    \"7a3d31\",\n",
    "    \"7b3e32\",\n",
    "    \"7c3e33\",\n",
    "    \"7d3f33\",\n",
    "    \"7e4034\",\n",
    "    \"7f4134\",\n",
    "    \"804235\",\n",
    "    \"814236\",\n",
    "    \"824336\",\n",
    "    \"834437\",\n",
    "    \"854538\",\n",
    "    \"864638\",\n",
    "    \"874739\",\n",
    "    \"88473a\",\n",
    "    \"89483a\",\n",
    "    \"8a493b\",\n",
    "    \"8b4a3c\",\n",
    "    \"8c4b3c\",\n",
    "    \"8d4c3d\",\n",
    "    \"8e4c3e\",\n",
    "    \"8f4d3f\",\n",
    "    \"904e3f\",\n",
    "    \"924f40\",\n",
    "    \"935041\",\n",
    "    \"945141\",\n",
    "    \"955242\",\n",
    "    \"965343\",\n",
    "    \"975343\",\n",
    "    \"985444\",\n",
    "    \"995545\",\n",
    "    \"9a5646\",\n",
    "    \"9b5746\",\n",
    "    \"9c5847\",\n",
    "    \"9d5948\",\n",
    "    \"9e5a49\",\n",
    "    \"9f5a49\",\n",
    "    \"a05b4a\",\n",
    "    \"a15c4b\",\n",
    "    \"a35d4b\",\n",
    "    \"a45e4c\",\n",
    "    \"a55f4d\",\n",
    "    \"a6604e\",\n",
    "    \"a7614e\",\n",
    "    \"a8624f\",\n",
    "    \"a96350\",\n",
    "    \"aa6451\",\n",
    "    \"ab6552\",\n",
    "    \"ac6552\",\n",
    "    \"ad6653\",\n",
    "    \"ae6754\",\n",
    "    \"af6855\",\n",
    "    \"b06955\",\n",
    "    \"b16a56\",\n",
    "    \"b26b57\",\n",
    "    \"b36c58\",\n",
    "    \"b46d59\",\n",
    "    \"b56e59\",\n",
    "    \"b66f5a\",\n",
    "    \"b7705b\",\n",
    "    \"b8715c\",\n",
    "    \"b9725d\",\n",
    "    \"ba735d\",\n",
    "    \"bb745e\",\n",
    "    \"bc755f\",\n",
    "    \"bd7660\",\n",
    "    \"be7761\",\n",
    "    \"bf7862\",\n",
    "    \"c07962\",\n",
    "    \"c17a63\",\n",
    "    \"c27b64\",\n",
    "    \"c27c65\",\n",
    "    \"c37d66\",\n",
    "    \"c47e67\",\n",
    "    \"c57f68\",\n",
    "    \"c68068\",\n",
    "    \"c78169\",\n",
    "    \"c8826a\",\n",
    "    \"c9836b\",\n",
    "    \"ca846c\",\n",
    "    \"cb856d\",\n",
    "    \"cc866e\",\n",
    "    \"cd876f\",\n",
    "    \"ce886f\",\n",
    "    \"ce8970\",\n",
    "    \"cf8a71\",\n",
    "    \"d08b72\",\n",
    "    \"d18c73\",\n",
    "    \"d28d74\",\n",
    "    \"d38e75\",\n",
    "    \"d48f76\",\n",
    "    \"d59077\",\n",
    "    \"d59178\",\n",
    "    \"d69279\",\n",
    "    \"d7937a\",\n",
    "    \"d8957b\",\n",
    "    \"d9967b\",\n",
    "    \"da977c\",\n",
    "    \"da987d\",\n",
    "    \"db997e\",\n",
    "    \"dc9a7f\",\n",
    "    \"dd9b80\",\n",
    "    \"de9c81\",\n",
    "    \"de9d82\",\n",
    "    \"df9e83\",\n",
    "    \"e09f84\",\n",
    "    \"e1a185\",\n",
    "    \"e2a286\",\n",
    "    \"e2a387\",\n",
    "    \"e3a488\",\n",
    "    \"e4a589\",\n",
    "    \"e5a68a\",\n",
    "    \"e5a78b\",\n",
    "    \"e6a88c\",\n",
    "    \"e7aa8d\",\n",
    "    \"e7ab8e\",\n",
    "    \"e8ac8f\",\n",
    "    \"e9ad90\",\n",
    "    \"eaae91\",\n",
    "    \"eaaf92\",\n",
    "    \"ebb093\",\n",
    "    \"ecb295\",\n",
    "    \"ecb396\",\n",
    "    \"edb497\",\n",
    "    \"eeb598\",\n",
    "    \"eeb699\",\n",
    "    \"efb79a\",\n",
    "    \"efb99b\",\n",
    "    \"f0ba9c\",\n",
    "    \"f1bb9d\",\n",
    "    \"f1bc9e\",\n",
    "    \"f2bd9f\",\n",
    "    \"f2bfa1\",\n",
    "    \"f3c0a2\",\n",
    "    \"f3c1a3\",\n",
    "    \"f4c2a4\",\n",
    "    \"f5c3a5\",\n",
    "    \"f5c5a6\",\n",
    "    \"f6c6a7\",\n",
    "    \"f6c7a8\",\n",
    "    \"f7c8aa\",\n",
    "    \"f7c9ab\",\n",
    "    \"f8cbac\",\n",
    "    \"f8ccad\",\n",
    "    \"f8cdae\",\n",
    "    \"f9ceb0\",\n",
    "    \"f9d0b1\",\n",
    "    \"fad1b2\",\n",
    "    \"fad2b3\",\n",
    "    \"fbd3b4\",\n",
    "    \"fbd5b6\",\n",
    "    \"fbd6b7\",\n",
    "    \"fcd7b8\",\n",
    "    \"fcd8b9\",\n",
    "    \"fcdaba\",\n",
    "    \"fddbbc\",\n",
    "    \"fddcbd\",\n",
    "    \"fddebe\",\n",
    "    \"fddfbf\",\n",
    "    \"fee0c1\",\n",
    "    \"fee1c2\",\n",
    "    \"fee3c3\",\n",
    "    \"fee4c5\",\n",
    "    \"ffe5c6\",\n",
    "    \"ffe7c7\",\n",
    "    \"ffe8c9\",\n",
    "    \"ffe9ca\",\n",
    "    \"ffebcb\",\n",
    "    \"ffeccd\",\n",
    "    \"ffedce\",\n",
    "    \"ffefcf\",\n",
    "    \"fff0d1\",\n",
    "    \"fff2d2\",\n",
    "    \"fff3d3\",\n",
    "    \"fff4d5\",\n",
    "    \"fff6d6\",\n",
    "    \"fff7d8\",\n",
    "    \"fff8d9\",\n",
    "    \"fffada\",\n",
    "    \"fffbdc\",\n",
    "    \"fffcdd\",\n",
    "    \"fffedf\",\n",
    "    \"ffffe0\",\n",
    ")\n",
    "my_colormap_vals_dec = np.array(\n",
    "    [int(element, base=16) for element in my_colormap_vals_hex]\n",
    ")\n",
    "r = np.floor(my_colormap_vals_dec / (256 * 256))\n",
    "g = np.floor((my_colormap_vals_dec - r * 256 * 256) / 256)\n",
    "b = np.floor(my_colormap_vals_dec - r * 256 * 256 - g * 256)\n",
    "my_colormap_vals = np.vstack((r, g, b)).transpose() / 255.0\n",
    "my_colormap = ListedColormap(my_colormap_vals)"
   ]
  },
  {
   "cell_type": "code",
   "execution_count": null,
   "metadata": {
    "id": "ONGRaQscfIOo"
   },
   "outputs": [],
   "source": [
    "# Probability distribution for normal\n",
    "def norm_pdf(x, mu, sigma):\n",
    "    return np.exp(-0.5 * (x - mu) * (x - mu) / (sigma * sigma)) / np.sqrt(\n",
    "        2 * np.pi * sigma * sigma\n",
    "    )"
   ]
  },
  {
   "cell_type": "code",
   "execution_count": null,
   "metadata": {
    "id": "gZvG0MKhfY8Y"
   },
   "outputs": [],
   "source": [
    "# True distribution is a mixture of four Gaussians\n",
    "class TrueDataDistribution:\n",
    "    # Constructor initializes parameters\n",
    "    def __init__(self):\n",
    "        self.mu = [1.5, -0.216, 0.45, -1.875]\n",
    "        self.sigma = [0.3, 0.15, 0.525, 0.075]\n",
    "        self.w = [0.2, 0.3, 0.35, 0.15]\n",
    "\n",
    "    # Return PDF\n",
    "    def pdf(self, x):\n",
    "        return (\n",
    "            self.w[0] * norm_pdf(x, self.mu[0], self.sigma[0])\n",
    "            + self.w[1] * norm_pdf(x, self.mu[1], self.sigma[1])\n",
    "            + self.w[2] * norm_pdf(x, self.mu[2], self.sigma[2])\n",
    "            + self.w[3] * norm_pdf(x, self.mu[3], self.sigma[3])\n",
    "        )\n",
    "\n",
    "    # Draw samples\n",
    "    def sample(self, n):\n",
    "        hidden = np.random.choice(4, n, p=self.w)\n",
    "        epsilon = np.random.normal(size=(n))\n",
    "        mu_list = list(itemgetter(*hidden)(self.mu))\n",
    "        sigma_list = list(itemgetter(*hidden)(self.sigma))\n",
    "        return mu_list + sigma_list * epsilon"
   ]
  },
  {
   "cell_type": "code",
   "execution_count": null,
   "metadata": {
    "id": "iJu_uBiaeUVv"
   },
   "outputs": [],
   "source": [
    "# Define ground truth probability distribution that we will model\n",
    "true_dist = TrueDataDistribution()\n",
    "# Let's visualize this\n",
    "x_vals = np.arange(-3, 3, 0.01)\n",
    "pr_x_true = true_dist.pdf(x_vals)\n",
    "fig, ax = plt.subplots()\n",
    "fig.set_size_inches(8, 2.5)\n",
    "ax.plot(x_vals, pr_x_true, \"r-\")\n",
    "ax.set_xlabel(\"$x$\")\n",
    "ax.set_ylabel(\"$Pr(x)$\")\n",
    "ax.set_ylim(0, 1.0)\n",
    "ax.set_xlim(-3, 3)\n",
    "plt.show()"
   ]
  },
  {
   "attachments": {},
   "cell_type": "markdown",
   "metadata": {
    "id": "DRHUG_41i4t_"
   },
   "source": [
    "To train the model to describe this distribution, we'll need to generate pairs of samples drawn from $Pr(z_t|x)$ (diffusion kernel) and $q(z_{t-1}|z_{t},x)$ (equation 18.15).\n",
    "\n"
   ]
  },
  {
   "cell_type": "code",
   "execution_count": null,
   "metadata": {
    "id": "x6B8t72Ukscd"
   },
   "outputs": [],
   "source": [
    "# Return z_t (the argument of g_{t}[] in the loss function in algorithm 18.1) and epsilon\n",
    "def get_data_pairs(x_train, t, beta):\n",
    "    # TODO -- write this function\n",
    "    # Replace these lines\n",
    "    epsilon = np.ones_like(x_train)\n",
    "    z_t = np.ones_like(x_train)\n",
    "\n",
    "    return z_t, epsilon"
   ]
  },
  {
   "attachments": {},
   "cell_type": "markdown",
   "metadata": {
    "id": "aSG_4uA8_zZ-"
   },
   "source": [
    "We also need models $\\text{g}_t[z_{t},\\phi_{t}]$ that map from $z_{t}$ to the noise $\\epsilon$ that was added.  We're just going to use a very hacky non-parametric model (basically a lookup table) that tells you the result based on the (quantized) input."
   ]
  },
  {
   "cell_type": "code",
   "execution_count": null,
   "metadata": {
    "id": "ZHViC0pL_yy5"
   },
   "outputs": [],
   "source": [
    "# This code is really ugly!  Don't look too closely at it!\n",
    "# All you need to know is that it is a model that trains from pairs zt, zt_minus1\n",
    "# And can then predict zt\n",
    "class NonParametricModel:\n",
    "    # Constructor initializes parameters\n",
    "    def __init__(self):\n",
    "\n",
    "        self.inc = 0.01\n",
    "        self.max_val = 3.0\n",
    "        self.model = []\n",
    "\n",
    "    # Learns a model that predicts epsilon given z_t\n",
    "    def train(self, zt, epsilon):\n",
    "        zt = np.clip(zt, -self.max_val, self.max_val)\n",
    "        epsilon = np.clip(epsilon, -self.max_val, self.max_val)\n",
    "        bins = np.arange(-self.max_val, self.max_val + self.inc, self.inc)\n",
    "        numerator, *_ = stats.binned_statistic(zt, epsilon, statistic=\"sum\", bins=bins)\n",
    "        denominator, *_ = stats.binned_statistic(\n",
    "            zt, epsilon, statistic=\"count\", bins=bins\n",
    "        )\n",
    "        self.model = numerator / (denominator + 1)\n",
    "\n",
    "    def predict(self, zt):\n",
    "        bin_index = np.floor((zt + self.max_val) / self.inc)\n",
    "        bin_index = np.clip(bin_index, 0, len(self.model) - 1).astype(\"uint32\")\n",
    "        return self.model[bin_index]"
   ]
  },
  {
   "cell_type": "code",
   "execution_count": null,
   "metadata": {
    "id": "CzVFybWoBygu"
   },
   "outputs": [],
   "source": [
    "# Sample data from distribution (this would usually be our collected training set)\n",
    "n_sample = 100000\n",
    "x_train = true_dist.sample(n_sample)\n",
    "\n",
    "# Define model parameters\n",
    "T = 100\n",
    "beta = 0.01511\n",
    "\n",
    "all_models = []\n",
    "for t in range(0, T):\n",
    "    clear_output(wait=True)\n",
    "    display(\"Training timestep %d\" % (t))\n",
    "    zt, epsilon = get_data_pairs(x_train, t, beta)\n",
    "    all_models.append(NonParametricModel())\n",
    "    # The model at index t maps data from z_{t+1} to epsilon\n",
    "    all_models[t].train(zt, epsilon)"
   ]
  },
  {
   "attachments": {},
   "cell_type": "markdown",
   "metadata": {
    "id": "ZPc9SEvtl14U"
   },
   "source": [
    "Now that we've learned the model, let's draw some samples from it.  We start at $z_{100}$ and use the model to predict $z_{99}$, then $z_{98}$ and so on until finally we get to $z_{1}$ and then $x$ (represented as $z_{0}$ here). We'll store all of the intermediate stages as well, so we can plot the trajectories.  See algorithm 18.2"
   ]
  },
  {
   "cell_type": "code",
   "execution_count": null,
   "metadata": {
    "id": "A-ZMFOvACIOw"
   },
   "outputs": [],
   "source": [
    "def sample(model, T, sigma_t, n_samples):\n",
    "    # Create the output array\n",
    "    # Each row represents a time step, first row will be sampled data\n",
    "    # Each column represents a different sample\n",
    "    samples = np.zeros((T + 1, n_samples))\n",
    "\n",
    "    # TODO -- Initialize the samples z_{T} at samples[T,:] from standard normal distribution\n",
    "    # Replace this line\n",
    "    samples[T, :] = np.zeros((1, n_samples))\n",
    "\n",
    "    # For t=100...99..98... ...0\n",
    "    for t in range(T, 0, -1):\n",
    "        clear_output(wait=True)\n",
    "        display(\"Predicting z_{%d} from z_{%d}\" % (t - 1, t))\n",
    "        # TODO Predict samples[t-1,:] from samples[t,:] using the appropriate model\n",
    "        # Replace this line:\n",
    "        samples[t - 1, :] = np.zeros((1, n_samples))\n",
    "\n",
    "        # If not the last time step\n",
    "        if t > 0:\n",
    "            # TODO Add noise to the samples at z_t-1 we just generated with mean zero, standard deviation sigma_t\n",
    "            # Replace this line\n",
    "            samples[t - 1, :] = samples[t - 1, :]\n",
    "\n",
    "    return samples"
   ]
  },
  {
   "attachments": {},
   "cell_type": "markdown",
   "metadata": {
    "id": "ECAUfHNi9NVW"
   },
   "source": [
    "Now let's run the diffusion process for a whole bunch of samples"
   ]
  },
  {
   "cell_type": "code",
   "execution_count": null,
   "metadata": {
    "id": "M-TY5w9Q8LYW"
   },
   "outputs": [],
   "source": [
    "sigma_t = 0.12288\n",
    "n_samples = 100000\n",
    "samples = sample(all_models, T, sigma_t, n_samples)\n",
    "\n",
    "\n",
    "# Plot the data\n",
    "sampled_data = samples[0, :]\n",
    "bins = np.arange(-3, 3.05, 0.05)\n",
    "\n",
    "fig, ax = plt.subplots()\n",
    "fig.set_size_inches(8, 2.5)\n",
    "ax.set_xlim([-3, 3])\n",
    "plt.hist(sampled_data, bins=bins, density=True)\n",
    "ax.set_ylim(0, 0.8)\n",
    "plt.show()"
   ]
  },
  {
   "attachments": {},
   "cell_type": "markdown",
   "metadata": {
    "id": "jYrAW6tN-gJ4"
   },
   "source": [
    "Let's, plot the evolution of a few of the paths as in figure 18.7 (paths are from bottom to top now)."
   ]
  },
  {
   "cell_type": "code",
   "execution_count": null,
   "metadata": {
    "id": "4XU6CDZC_kFo"
   },
   "outputs": [],
   "source": [
    "fig, ax = plt.subplots()\n",
    "t_vals = np.arange(0, 101, 1)\n",
    "ax.plot(samples[:, 0], t_vals, \"r-\")\n",
    "ax.plot(samples[:, 1], t_vals, \"g-\")\n",
    "ax.plot(samples[:, 2], t_vals, \"b-\")\n",
    "ax.plot(samples[:, 3], t_vals, \"c-\")\n",
    "ax.plot(samples[:, 4], t_vals, \"m-\")\n",
    "ax.set_xlim([-3, 3])\n",
    "ax.set_ylim([101, 0])\n",
    "ax.set_xlabel(\"value\")\n",
    "ax.set_ylabel(\"z_{t}\")\n",
    "plt.show()"
   ]
  },
  {
   "attachments": {},
   "cell_type": "markdown",
   "metadata": {
    "id": "SGTYGGevAktz"
   },
   "source": [
    "Notice that the samples have a tendency to move from positions that are near the center at time 100 to positions that are high in the true probability distribution at time 0"
   ]
  }
 ],
 "metadata": {
  "colab": {
   "authorship_tag": "ABX9TyNd+D0/IVWXtU2GKsofyk2d",
   "include_colab_link": true,
   "provenance": []
  },
  "kernelspec": {
   "display_name": "Python 3",
   "name": "python3"
  },
  "language_info": {
   "name": "python"
  }
 },
 "nbformat": 4,
 "nbformat_minor": 0
}

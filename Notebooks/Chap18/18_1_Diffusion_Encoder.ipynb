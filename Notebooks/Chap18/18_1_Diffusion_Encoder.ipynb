{
 "cells": [
  {
   "cell_type": "markdown",
   "metadata": {
    "id": "view-in-github",
    "colab_type": "text"
   },
   "source": [
    "<a href=\"https://colab.research.google.com/github/udlbook/udlbook/blob/main/Notebooks/Chap18/18_1_Diffusion_Encoder.ipynb\" target=\"_parent\"><img src=\"https://colab.research.google.com/assets/colab-badge.svg\" alt=\"Open In Colab\"/></a>"
   ]
  },
  {
   "cell_type": "markdown",
   "metadata": {
    "id": "t9vk9Elugvmi"
   },
   "source": [
    "# **Notebook 18.1: Diffusion Encoder**\n",
    "\n",
    "This notebook investigates the diffusion encoder as described in section 18.2 of the book.\n",
    "\n",
    "Work through the cells below, running each cell in turn. In various places you will see the words \"TO DO\". Follow the instructions at these places and make predictions about what is going to happen or write code to complete the functions.\n",
    "\n",
    "Contact me at udlbookmail@gmail.com if you find any mistakes or have any suggestions."
   ]
  },
  {
   "cell_type": "code",
   "execution_count": null,
   "metadata": {
    "id": "OLComQyvCIJ7"
   },
   "outputs": [],
   "source": [
    "import numpy as np\n",
    "import matplotlib.pyplot as plt\n",
    "from matplotlib.colors import ListedColormap\n",
    "from operator import itemgetter"
   ]
  },
  {
   "cell_type": "code",
   "execution_count": null,
   "metadata": {
    "id": "4PM8bf6lO0VE"
   },
   "outputs": [],
   "source": [
    "# Create pretty colormap as in book\n",
    "my_colormap_vals_hex = (\n",
    "    \"2a0902\",\n",
    "    \"2b0a03\",\n",
    "    \"2c0b04\",\n",
    "    \"2d0c05\",\n",
    "    \"2e0c06\",\n",
    "    \"2f0d07\",\n",
    "    \"300d08\",\n",
    "    \"310e09\",\n",
    "    \"320f0a\",\n",
    "    \"330f0b\",\n",
    "    \"34100b\",\n",
    "    \"35110c\",\n",
    "    \"36110d\",\n",
    "    \"37120e\",\n",
    "    \"38120f\",\n",
    "    \"39130f\",\n",
    "    \"3a1410\",\n",
    "    \"3b1411\",\n",
    "    \"3c1511\",\n",
    "    \"3d1612\",\n",
    "    \"3e1613\",\n",
    "    \"3f1713\",\n",
    "    \"401714\",\n",
    "    \"411814\",\n",
    "    \"421915\",\n",
    "    \"431915\",\n",
    "    \"451a16\",\n",
    "    \"461b16\",\n",
    "    \"471b17\",\n",
    "    \"481c17\",\n",
    "    \"491d18\",\n",
    "    \"4a1d18\",\n",
    "    \"4b1e19\",\n",
    "    \"4c1f19\",\n",
    "    \"4d1f1a\",\n",
    "    \"4e201b\",\n",
    "    \"50211b\",\n",
    "    \"51211c\",\n",
    "    \"52221c\",\n",
    "    \"53231d\",\n",
    "    \"54231d\",\n",
    "    \"55241e\",\n",
    "    \"56251e\",\n",
    "    \"57261f\",\n",
    "    \"58261f\",\n",
    "    \"592720\",\n",
    "    \"5b2821\",\n",
    "    \"5c2821\",\n",
    "    \"5d2922\",\n",
    "    \"5e2a22\",\n",
    "    \"5f2b23\",\n",
    "    \"602b23\",\n",
    "    \"612c24\",\n",
    "    \"622d25\",\n",
    "    \"632e25\",\n",
    "    \"652e26\",\n",
    "    \"662f26\",\n",
    "    \"673027\",\n",
    "    \"683027\",\n",
    "    \"693128\",\n",
    "    \"6a3229\",\n",
    "    \"6b3329\",\n",
    "    \"6c342a\",\n",
    "    \"6d342a\",\n",
    "    \"6f352b\",\n",
    "    \"70362c\",\n",
    "    \"71372c\",\n",
    "    \"72372d\",\n",
    "    \"73382e\",\n",
    "    \"74392e\",\n",
    "    \"753a2f\",\n",
    "    \"763a2f\",\n",
    "    \"773b30\",\n",
    "    \"783c31\",\n",
    "    \"7a3d31\",\n",
    "    \"7b3e32\",\n",
    "    \"7c3e33\",\n",
    "    \"7d3f33\",\n",
    "    \"7e4034\",\n",
    "    \"7f4134\",\n",
    "    \"804235\",\n",
    "    \"814236\",\n",
    "    \"824336\",\n",
    "    \"834437\",\n",
    "    \"854538\",\n",
    "    \"864638\",\n",
    "    \"874739\",\n",
    "    \"88473a\",\n",
    "    \"89483a\",\n",
    "    \"8a493b\",\n",
    "    \"8b4a3c\",\n",
    "    \"8c4b3c\",\n",
    "    \"8d4c3d\",\n",
    "    \"8e4c3e\",\n",
    "    \"8f4d3f\",\n",
    "    \"904e3f\",\n",
    "    \"924f40\",\n",
    "    \"935041\",\n",
    "    \"945141\",\n",
    "    \"955242\",\n",
    "    \"965343\",\n",
    "    \"975343\",\n",
    "    \"985444\",\n",
    "    \"995545\",\n",
    "    \"9a5646\",\n",
    "    \"9b5746\",\n",
    "    \"9c5847\",\n",
    "    \"9d5948\",\n",
    "    \"9e5a49\",\n",
    "    \"9f5a49\",\n",
    "    \"a05b4a\",\n",
    "    \"a15c4b\",\n",
    "    \"a35d4b\",\n",
    "    \"a45e4c\",\n",
    "    \"a55f4d\",\n",
    "    \"a6604e\",\n",
    "    \"a7614e\",\n",
    "    \"a8624f\",\n",
    "    \"a96350\",\n",
    "    \"aa6451\",\n",
    "    \"ab6552\",\n",
    "    \"ac6552\",\n",
    "    \"ad6653\",\n",
    "    \"ae6754\",\n",
    "    \"af6855\",\n",
    "    \"b06955\",\n",
    "    \"b16a56\",\n",
    "    \"b26b57\",\n",
    "    \"b36c58\",\n",
    "    \"b46d59\",\n",
    "    \"b56e59\",\n",
    "    \"b66f5a\",\n",
    "    \"b7705b\",\n",
    "    \"b8715c\",\n",
    "    \"b9725d\",\n",
    "    \"ba735d\",\n",
    "    \"bb745e\",\n",
    "    \"bc755f\",\n",
    "    \"bd7660\",\n",
    "    \"be7761\",\n",
    "    \"bf7862\",\n",
    "    \"c07962\",\n",
    "    \"c17a63\",\n",
    "    \"c27b64\",\n",
    "    \"c27c65\",\n",
    "    \"c37d66\",\n",
    "    \"c47e67\",\n",
    "    \"c57f68\",\n",
    "    \"c68068\",\n",
    "    \"c78169\",\n",
    "    \"c8826a\",\n",
    "    \"c9836b\",\n",
    "    \"ca846c\",\n",
    "    \"cb856d\",\n",
    "    \"cc866e\",\n",
    "    \"cd876f\",\n",
    "    \"ce886f\",\n",
    "    \"ce8970\",\n",
    "    \"cf8a71\",\n",
    "    \"d08b72\",\n",
    "    \"d18c73\",\n",
    "    \"d28d74\",\n",
    "    \"d38e75\",\n",
    "    \"d48f76\",\n",
    "    \"d59077\",\n",
    "    \"d59178\",\n",
    "    \"d69279\",\n",
    "    \"d7937a\",\n",
    "    \"d8957b\",\n",
    "    \"d9967b\",\n",
    "    \"da977c\",\n",
    "    \"da987d\",\n",
    "    \"db997e\",\n",
    "    \"dc9a7f\",\n",
    "    \"dd9b80\",\n",
    "    \"de9c81\",\n",
    "    \"de9d82\",\n",
    "    \"df9e83\",\n",
    "    \"e09f84\",\n",
    "    \"e1a185\",\n",
    "    \"e2a286\",\n",
    "    \"e2a387\",\n",
    "    \"e3a488\",\n",
    "    \"e4a589\",\n",
    "    \"e5a68a\",\n",
    "    \"e5a78b\",\n",
    "    \"e6a88c\",\n",
    "    \"e7aa8d\",\n",
    "    \"e7ab8e\",\n",
    "    \"e8ac8f\",\n",
    "    \"e9ad90\",\n",
    "    \"eaae91\",\n",
    "    \"eaaf92\",\n",
    "    \"ebb093\",\n",
    "    \"ecb295\",\n",
    "    \"ecb396\",\n",
    "    \"edb497\",\n",
    "    \"eeb598\",\n",
    "    \"eeb699\",\n",
    "    \"efb79a\",\n",
    "    \"efb99b\",\n",
    "    \"f0ba9c\",\n",
    "    \"f1bb9d\",\n",
    "    \"f1bc9e\",\n",
    "    \"f2bd9f\",\n",
    "    \"f2bfa1\",\n",
    "    \"f3c0a2\",\n",
    "    \"f3c1a3\",\n",
    "    \"f4c2a4\",\n",
    "    \"f5c3a5\",\n",
    "    \"f5c5a6\",\n",
    "    \"f6c6a7\",\n",
    "    \"f6c7a8\",\n",
    "    \"f7c8aa\",\n",
    "    \"f7c9ab\",\n",
    "    \"f8cbac\",\n",
    "    \"f8ccad\",\n",
    "    \"f8cdae\",\n",
    "    \"f9ceb0\",\n",
    "    \"f9d0b1\",\n",
    "    \"fad1b2\",\n",
    "    \"fad2b3\",\n",
    "    \"fbd3b4\",\n",
    "    \"fbd5b6\",\n",
    "    \"fbd6b7\",\n",
    "    \"fcd7b8\",\n",
    "    \"fcd8b9\",\n",
    "    \"fcdaba\",\n",
    "    \"fddbbc\",\n",
    "    \"fddcbd\",\n",
    "    \"fddebe\",\n",
    "    \"fddfbf\",\n",
    "    \"fee0c1\",\n",
    "    \"fee1c2\",\n",
    "    \"fee3c3\",\n",
    "    \"fee4c5\",\n",
    "    \"ffe5c6\",\n",
    "    \"ffe7c7\",\n",
    "    \"ffe8c9\",\n",
    "    \"ffe9ca\",\n",
    "    \"ffebcb\",\n",
    "    \"ffeccd\",\n",
    "    \"ffedce\",\n",
    "    \"ffefcf\",\n",
    "    \"fff0d1\",\n",
    "    \"fff2d2\",\n",
    "    \"fff3d3\",\n",
    "    \"fff4d5\",\n",
    "    \"fff6d6\",\n",
    "    \"fff7d8\",\n",
    "    \"fff8d9\",\n",
    "    \"fffada\",\n",
    "    \"fffbdc\",\n",
    "    \"fffcdd\",\n",
    "    \"fffedf\",\n",
    "    \"ffffe0\",\n",
    ")\n",
    "my_colormap_vals_dec = np.array(\n",
    "    [int(element, base=16) for element in my_colormap_vals_hex]\n",
    ")\n",
    "r = np.floor(my_colormap_vals_dec / (256 * 256))\n",
    "g = np.floor((my_colormap_vals_dec - r * 256 * 256) / 256)\n",
    "b = np.floor(my_colormap_vals_dec - r * 256 * 256 - g * 256)\n",
    "my_colormap_vals = np.vstack((r, g, b)).transpose() / 255.0\n",
    "my_colormap = ListedColormap(my_colormap_vals)"
   ]
  },
  {
   "cell_type": "code",
   "execution_count": null,
   "metadata": {
    "id": "ONGRaQscfIOo"
   },
   "outputs": [],
   "source": [
    "# Probability distribution for normal\n",
    "def norm_pdf(x, mu, sigma):\n",
    "    return np.exp(-0.5 * (x - mu) * (x - mu) / (sigma * sigma)) / np.sqrt(\n",
    "        2 * np.pi * sigma * sigma\n",
    "    )"
   ]
  },
  {
   "cell_type": "code",
   "execution_count": null,
   "metadata": {
    "id": "gZvG0MKhfY8Y"
   },
   "outputs": [],
   "source": [
    "# True distribution is a mixture of four Gaussians\n",
    "class TrueDataDistribution:\n",
    "    # Constructor initializes parameters\n",
    "    def __init__(self):\n",
    "        self.mu = [1.5, -0.216, 0.45, -1.875]\n",
    "        self.sigma = [0.3, 0.15, 0.525, 0.075]\n",
    "        self.w = [0.2, 0.3, 0.35, 0.15]\n",
    "\n",
    "    # Return PDF\n",
    "    def pdf(self, x):\n",
    "        return (\n",
    "            self.w[0] * norm_pdf(x, self.mu[0], self.sigma[0])\n",
    "            + self.w[1] * norm_pdf(x, self.mu[1], self.sigma[1])\n",
    "            + self.w[2] * norm_pdf(x, self.mu[2], self.sigma[2])\n",
    "            + self.w[3] * norm_pdf(x, self.mu[3], self.sigma[3])\n",
    "        )\n",
    "\n",
    "    # Draw samples\n",
    "    def sample(self, n):\n",
    "        hidden = np.random.choice(4, n, p=self.w)\n",
    "        epsilon = np.random.normal(size=(n))\n",
    "        mu_list = list(itemgetter(*hidden)(self.mu))\n",
    "        sigma_list = list(itemgetter(*hidden)(self.sigma))\n",
    "        return mu_list + sigma_list * epsilon"
   ]
  },
  {
   "cell_type": "code",
   "execution_count": null,
   "metadata": {
    "id": "qXmej3TUuQyp"
   },
   "outputs": [],
   "source": [
    "# Define ground truth probability distribution that we will model\n",
    "true_dist = TrueDataDistribution()\n",
    "# Let's visualize this\n",
    "x_vals = np.arange(-3, 3, 0.01)\n",
    "pr_x_true = true_dist.pdf(x_vals)\n",
    "fig, ax = plt.subplots()\n",
    "ax.plot(x_vals, pr_x_true, \"r-\")\n",
    "ax.set_xlabel(\"$x$\")\n",
    "ax.set_ylabel(\"$Pr(x)$\")\n",
    "ax.set_ylim(0, 1.0)\n",
    "ax.set_xlim(-3, 3)\n",
    "plt.show()"
   ]
  },
  {
   "cell_type": "markdown",
   "metadata": {
    "id": "XHdtfRP47YLy"
   },
   "source": [
    "Let's first implement the forward process"
   ]
  },
  {
   "cell_type": "code",
   "execution_count": null,
   "metadata": {
    "id": "hkApJ2VJlQuk"
   },
   "outputs": [],
   "source": [
    "# Do one step of diffusion (equation 18.1)\n",
    "def diffuse_one_step(z_t_minus_1, beta_t):\n",
    "    # TODO -- Implement this function\n",
    "    # Use np.random.normal to generate the samples epsilon\n",
    "    # Replace this line\n",
    "    z_t = np.zeros_like(z_t_minus_1)\n",
    "\n",
    "    return z_t"
   ]
  },
  {
   "cell_type": "markdown",
   "metadata": {
    "id": "ECAUfHNi9NVW"
   },
   "source": [
    "Now let's run the diffusion process for a whole bunch of samples"
   ]
  },
  {
   "cell_type": "code",
   "execution_count": null,
   "metadata": {
    "id": "M-TY5w9Q8LYW"
   },
   "outputs": [],
   "source": [
    "# Generate some samples\n",
    "n_sample = 10000\n",
    "np.random.seed(6)\n",
    "x = true_dist.sample(n_sample)\n",
    "\n",
    "# Number of time steps\n",
    "T = 100\n",
    "# Noise schedule has same value at every time step\n",
    "beta = 0.01511\n",
    "\n",
    "# We'll store the diffused samples in an array\n",
    "samples = np.zeros((T + 1, n_sample))\n",
    "samples[0, :] = x\n",
    "\n",
    "for t in range(T):\n",
    "    samples[t + 1, :] = diffuse_one_step(samples[t, :], beta)"
   ]
  },
  {
   "cell_type": "markdown",
   "metadata": {
    "id": "jYrAW6tN-gJ4"
   },
   "source": [
    "Let's, plot the evolution of a few paths as in figure 18.2"
   ]
  },
  {
   "cell_type": "code",
   "execution_count": null,
   "metadata": {
    "id": "4XU6CDZC_kFo"
   },
   "outputs": [],
   "source": [
    "fig, ax = plt.subplots()\n",
    "t_vals = np.arange(0, 101, 1)\n",
    "ax.plot(samples[:, 0], t_vals, \"r-\")\n",
    "ax.plot(samples[:, 1], t_vals, \"g-\")\n",
    "ax.plot(samples[:, 2], t_vals, \"b-\")\n",
    "ax.plot(samples[:, 3], t_vals, \"c-\")\n",
    "ax.plot(samples[:, 4], t_vals, \"m-\")\n",
    "ax.set_xlim([-3, 3])\n",
    "ax.set_ylim([101, 0])\n",
    "ax.set_xlabel(\"value\")\n",
    "ax.set_ylabel(\"z_{t}\")\n",
    "plt.show()"
   ]
  },
  {
   "cell_type": "markdown",
   "metadata": {
    "id": "SGTYGGevAktz"
   },
   "source": [
    "Notice that the samples have a tendency to move toward the center.  Now let's look at the histogram of the samples at each stage"
   ]
  },
  {
   "cell_type": "code",
   "execution_count": null,
   "metadata": {
    "id": "bn5E5NzL-evM"
   },
   "outputs": [],
   "source": [
    "def draw_hist(z_t, title=\"\"):\n",
    "    fig, ax = plt.subplots()\n",
    "    fig.set_size_inches(8, 2.5)\n",
    "    plt.hist(z_t, bins=np.arange(-3, 3, 0.1), density=True)\n",
    "    ax.set_xlim([-3, 3])\n",
    "    ax.set_ylim([0, 1.0])\n",
    "    ax.set_title(title)\n",
    "    plt.show()"
   ]
  },
  {
   "cell_type": "code",
   "execution_count": null,
   "metadata": {
    "id": "pn_XD-EhBlwk"
   },
   "outputs": [],
   "source": [
    "draw_hist(samples[0, :], \"Original data\")\n",
    "draw_hist(samples[5, :], \"Time step 5\")\n",
    "draw_hist(samples[10, :], \"Time step 10\")\n",
    "draw_hist(samples[20, :], \"Time step 20\")\n",
    "draw_hist(samples[40, :], \"Time step 40\")\n",
    "draw_hist(samples[80, :], \"Time step 80\")\n",
    "draw_hist(samples[100, :], \"Time step 100\")"
   ]
  },
  {
   "cell_type": "markdown",
   "metadata": {
    "id": "skuLfGl5Czf4"
   },
   "source": [
    "You can clearly see that as the diffusion process continues, the data becomes more Gaussian."
   ]
  },
  {
   "cell_type": "markdown",
   "metadata": {
    "id": "s37CBSzzK7wh"
   },
   "source": [
    "Now let's investigate the diffusion kernel as in figure 18.3 of the book.\n"
   ]
  },
  {
   "cell_type": "code",
   "execution_count": null,
   "metadata": {
    "id": "vL62Iym0LEtY"
   },
   "outputs": [],
   "source": [
    "def diffusion_kernel(x, t, beta):\n",
    "    # TODO -- write this function\n",
    "    # Replace this line:\n",
    "    dk_mean = 0.0\n",
    "    dk_std = 1.0\n",
    "\n",
    "    return dk_mean, dk_std"
   ]
  },
  {
   "cell_type": "code",
   "execution_count": null,
   "metadata": {
    "id": "KtP1KF8wMh8o"
   },
   "outputs": [],
   "source": [
    "def draw_prob_dist(x_plot_vals, prob_dist, title=\"\"):\n",
    "    fig, ax = plt.subplots()\n",
    "    fig.set_size_inches(8, 2.5)\n",
    "    ax.plot(x_plot_vals, prob_dist, \"b-\")\n",
    "    ax.set_xlim([-3, 3])\n",
    "    ax.set_ylim([0, 1.0])\n",
    "    ax.set_title(title)\n",
    "    plt.show()\n",
    "\n",
    "\n",
    "def compute_and_plot_diffusion_kernels(x, T, beta, my_colormap):\n",
    "    x_plot_vals = np.arange(-3, 3, 0.01)\n",
    "    diffusion_kernels = np.zeros((T + 1, len(x_plot_vals)))\n",
    "    dk_mean_all = np.ones((T + 1, 1)) * x\n",
    "    dk_std_all = np.zeros((T + 1, 1))\n",
    "    for t in range(T):\n",
    "        dk_mean_all[t + 1], dk_std_all[t + 1] = diffusion_kernel(x, t + 1, beta)\n",
    "        diffusion_kernels[t + 1, :] = norm_pdf(\n",
    "            x_plot_vals, dk_mean_all[t + 1], dk_std_all[t + 1]\n",
    "        )\n",
    "\n",
    "    samples = np.ones((T + 1, 5))\n",
    "    samples[0, :] = x\n",
    "\n",
    "    for t in range(T):\n",
    "        samples[t + 1, :] = diffuse_one_step(samples[t, :], beta)\n",
    "\n",
    "    fig, ax = plt.subplots()\n",
    "    fig.set_size_inches(6, 6)\n",
    "\n",
    "    # Plot the image containing all the kernels\n",
    "    plt.imshow(diffusion_kernels, cmap=my_colormap, interpolation=\"nearest\")\n",
    "\n",
    "    # Plot +/- 2 standard deviations\n",
    "    ax.plot(\n",
    "        (dk_mean_all - 2 * dk_std_all) / 0.01 + len(x_plot_vals) / 2,\n",
    "        np.arange(0, 101, 1),\n",
    "        \"y--\",\n",
    "    )\n",
    "    ax.plot(\n",
    "        (dk_mean_all + 2 * dk_std_all) / 0.01 + len(x_plot_vals) / 2,\n",
    "        np.arange(0, 101, 1),\n",
    "        \"y--\",\n",
    "    )\n",
    "\n",
    "    # Plot a few trajectories\n",
    "    ax.plot(samples[:, 0] / 0.01 + +len(x_plot_vals) / 2, np.arange(0, 101, 1), \"r-\")\n",
    "    ax.plot(samples[:, 1] / 0.01 + +len(x_plot_vals) / 2, np.arange(0, 101, 1), \"g-\")\n",
    "    ax.plot(samples[:, 2] / 0.01 + +len(x_plot_vals) / 2, np.arange(0, 101, 1), \"b-\")\n",
    "    ax.plot(samples[:, 3] / 0.01 + +len(x_plot_vals) / 2, np.arange(0, 101, 1), \"c-\")\n",
    "    ax.plot(samples[:, 4] / 0.01 + +len(x_plot_vals) / 2, np.arange(0, 101, 1), \"m-\")\n",
    "\n",
    "    # Tidy up and plot\n",
    "    ax.set_ylabel(\"$Pr(z_{t}|x)$\")\n",
    "    ax.get_xaxis().set_visible(False)\n",
    "    ax.set_xlim([0, 601])\n",
    "    ax.set_aspect(601 / T)\n",
    "    plt.show()\n",
    "\n",
    "    draw_prob_dist(x_plot_vals, diffusion_kernels[20, :], \"$q(z_{20}|x)$\")\n",
    "    draw_prob_dist(x_plot_vals, diffusion_kernels[40, :], \"$q(z_{40}|x)$\")\n",
    "    draw_prob_dist(x_plot_vals, diffusion_kernels[80, :], \"$q(z_{80}|x)$\")"
   ]
  },
  {
   "cell_type": "code",
   "execution_count": null,
   "metadata": {
    "id": "g8TcI5wtRQsx"
   },
   "outputs": [],
   "source": [
    "x = -2\n",
    "compute_and_plot_diffusion_kernels(x, T, beta, my_colormap)"
   ]
  },
  {
   "cell_type": "markdown",
   "metadata": {
    "id": "-RuN2lR28-hK"
   },
   "source": [
    "TODO -- Run this for different version of $x$ and check that you understand how the graphs change"
   ]
  },
  {
   "cell_type": "markdown",
   "metadata": {
    "id": "n-x6Whz2J_zy"
   },
   "source": [
    "Finally, let's estimate the marginal distributions empirically and visualize them as in figure 18.4 of the book. This is only tractable because the data is in one dimension and we know the original distribution.\n",
    "\n",
    "The marginal distribution at time t is the sum of the diffusion kernels for each position x, weighted by the probability of seeing that value of x in the true distribution."
   ]
  },
  {
   "cell_type": "code",
   "execution_count": null,
   "metadata": {
    "id": "YzN5duYpg7C-"
   },
   "outputs": [],
   "source": [
    "def diffusion_marginal(x_plot_vals, pr_x_true, t, beta):\n",
    "    # If time is zero then marginal is just original distribution\n",
    "    if t == 0:\n",
    "        return pr_x_true\n",
    "\n",
    "    # The thing we are computing\n",
    "    marginal_at_time_t = np.zeros_like(pr_x_true)\n",
    "\n",
    "    # TODO Write this function\n",
    "    # 1. For each x (value in x_plot_vals):\n",
    "    # 2. Compute the mean and variance of the diffusion kernel at time t\n",
    "    # 3. Compute pdf of this Gaussian at every x_plot_val\n",
    "    # 4. Weight Gaussian by probability at position x and by 0.01 to componensate for bin size\n",
    "    # 5. Accumulate weighted Gaussian in marginal at time t.\n",
    "\n",
    "    # Replace this line:\n",
    "    marginal_at_time_t = marginal_at_time_t\n",
    "\n",
    "    return marginal_at_time_t"
   ]
  },
  {
   "cell_type": "code",
   "execution_count": null,
   "metadata": {
    "id": "OgEU9sxjRaeO"
   },
   "outputs": [],
   "source": [
    "x_plot_vals = np.arange(-3, 3, 0.01)\n",
    "marginal_distributions = np.zeros((T + 1, len(x_plot_vals)))\n",
    "\n",
    "for t in range(T + 1):\n",
    "    marginal_distributions[t, :] = diffusion_marginal(x_plot_vals, pr_x_true, t, beta)\n",
    "\n",
    "fig, ax = plt.subplots()\n",
    "fig.set_size_inches(6, 6)\n",
    "\n",
    "# Plot the image containing all the kernels\n",
    "plt.imshow(marginal_distributions, cmap=my_colormap, interpolation=\"nearest\")\n",
    "\n",
    "# Tidy up and plot\n",
    "ax.set_ylabel(\"$Pr(z_{t})$\")\n",
    "ax.get_xaxis().set_visible(False)\n",
    "ax.set_xlim([0, 601])\n",
    "ax.set_aspect(601 / T)\n",
    "plt.show()\n",
    "\n",
    "\n",
    "draw_prob_dist(x_plot_vals, marginal_distributions[0, :], \"$q(z_{0})$\")\n",
    "draw_prob_dist(x_plot_vals, marginal_distributions[20, :], \"$q(z_{20})$\")\n",
    "draw_prob_dist(x_plot_vals, marginal_distributions[60, :], \"$q(z_{60})$\")"
   ]
  }
 ],
 "metadata": {
  "colab": {
   "provenance": [],
   "include_colab_link": true
  },
  "kernelspec": {
   "display_name": "Python 3",
   "name": "python3"
  },
  "language_info": {
   "name": "python"
  }
 },
 "nbformat": 4,
 "nbformat_minor": 0
}